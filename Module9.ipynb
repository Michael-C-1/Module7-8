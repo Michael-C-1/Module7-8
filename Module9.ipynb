{
  "nbformat": 4,
  "nbformat_minor": 0,
  "metadata": {
    "colab": {
      "name": "Module9.ipynb",
      "provenance": [],
      "collapsed_sections": [],
      "authorship_tag": "ABX9TyOyFr5163Q+M8Y8aKfhu5Id",
      "include_colab_link": true
    },
    "kernelspec": {
      "name": "python3",
      "display_name": "Python 3"
    }
  },
  "cells": [
    {
      "cell_type": "markdown",
      "metadata": {
        "id": "view-in-github",
        "colab_type": "text"
      },
      "source": [
        "<a href=\"https://colab.research.google.com/github/Michael-C-1/Module9/blob/main/Module9.ipynb\" target=\"_parent\"><img src=\"https://colab.research.google.com/assets/colab-badge.svg\" alt=\"Open In Colab\"/></a>"
      ]
    },
    {
      "cell_type": "markdown",
      "metadata": {
        "id": "l4umxsmZtFzP"
      },
      "source": [
        "#Max function, Min, Average, Standard Deviation, Geometric Average\n",
        "This takes the maximum value, minimum  value, average, standard deviation and geometric average of a list of numbers"
      ]
    },
    {
      "cell_type": "code",
      "metadata": {
        "id": "GBB-q9JKs4xR",
        "outputId": "0c1cf00d-c507-4777-d892-f616654a7989",
        "colab": {
          "base_uri": "https://localhost:8080/",
          "height": 34
        }
      },
      "source": [
        "List=(19, 32, 34, 33, 75, 91, 9, 4, 18, 38)\n",
        "\n",
        "def max(numbers):\n",
        "  max = 0\n",
        "  for k in numbers:\n",
        "    if k > max:\n",
        "      max = k\n",
        "  return print(max)\n",
        "\n",
        "max(List)"
      ],
      "execution_count": 1,
      "outputs": [
        {
          "output_type": "stream",
          "text": [
            "91\n"
          ],
          "name": "stdout"
        }
      ]
    },
    {
      "cell_type": "code",
      "metadata": {
        "id": "efqiImby8F-I",
        "outputId": "cf6a88e0-72f9-4b00-9e01-2d8315cf3b47",
        "colab": {
          "base_uri": "https://localhost:8080/",
          "height": 34
        }
      },
      "source": [
        "List=(19, 32, 34, 33, 75, 91, 9, 4, 18, 38)\n",
        "\n",
        "def min(numbers):\n",
        "  b=10**10\n",
        "  for k in numbers:\n",
        "    if (b>k):\n",
        "      b = k\n",
        "  return print(b)\n",
        "\n",
        "min(List)"
      ],
      "execution_count": null,
      "outputs": [
        {
          "output_type": "stream",
          "text": [
            "4\n"
          ],
          "name": "stdout"
        }
      ]
    },
    {
      "cell_type": "code",
      "metadata": {
        "id": "eD27Jo7Q8P0a",
        "outputId": "8a21b438-2644-4ee4-9f1d-5d7b56ec7037",
        "colab": {
          "base_uri": "https://localhost:8080/",
          "height": 34
        }
      },
      "source": [
        "List=(19, 32, 34, 33, 75, 91, 9, 4, 18, 38)\n",
        "\n",
        "def avg(numbers):\n",
        "  avg=0\n",
        "  for k in numbers:\n",
        "    avg+=k\n",
        "  avg = avg/len(List)\n",
        "  return avg\n",
        "\n",
        "avg(List)"
      ],
      "execution_count": null,
      "outputs": [
        {
          "output_type": "execute_result",
          "data": {
            "text/plain": [
              "35.3"
            ]
          },
          "metadata": {
            "tags": []
          },
          "execution_count": 53
        }
      ]
    },
    {
      "cell_type": "code",
      "metadata": {
        "id": "ascTgkS98fFH",
        "outputId": "3af435f6-a7b0-4a47-ab7d-48039d632a6a",
        "colab": {
          "base_uri": "https://localhost:8080/",
          "height": 34
        }
      },
      "source": [
        "List=(19, 32, 34, 33, 75, 91, 9, 4, 18, 38)\n",
        "\n",
        "def SD(numbers):\n",
        "  total=0\n",
        "  Avg=avg(numbers)\n",
        "  for k in numbers:\n",
        "    k-=35.3\n",
        "    total+=pow(k,2)\n",
        "  total/=(len(numbers)-1)\n",
        "  return print(total**(.5))\n",
        "\n",
        "SD(List)"
      ],
      "execution_count": null,
      "outputs": [
        {
          "output_type": "stream",
          "text": [
            "27.76908752952142\n"
          ],
          "name": "stdout"
        }
      ]
    },
    {
      "cell_type": "code",
      "metadata": {
        "id": "9wRzyGO98fi6",
        "outputId": "0fda124c-d155-4edc-81d6-70fda252e0ea",
        "colab": {
          "base_uri": "https://localhost:8080/",
          "height": 34
        }
      },
      "source": [
        "List=(19, 32, 34, 33, 75, 91, 9, 4, 18, 38)\n",
        "\n",
        "def GeoAvg(numbers):\n",
        "  GA=1\n",
        "  for k in numbers:\n",
        "    GA*=k\n",
        "  return print(pow(GA, 1/len(numbers)))\n",
        "\n",
        "GeoAvg(List)"
      ],
      "execution_count": null,
      "outputs": [
        {
          "output_type": "stream",
          "text": [
            "25.464536135860143\n"
          ],
          "name": "stdout"
        }
      ]
    },
    {
      "cell_type": "markdown",
      "metadata": {
        "id": "9QSO0SwO8PQS"
      },
      "source": [
        "#Shape Areas\n",
        "This function outputs the area of the shape that the user chooses after getting the necessary values"
      ]
    },
    {
      "cell_type": "code",
      "metadata": {
        "id": "j3rA_Yyiu0k1"
      },
      "source": [
        "import math\n",
        "def chooseShape():\n",
        "  value=input('Press 1 for triangle, 2 for circle, 3 for square')\n",
        "  if value==1:\n",
        "    TriangleArea()\n",
        "  elif value==2:\n",
        "    CircleArea()\n",
        "  elif value==3:\n",
        "    SquareArea\n",
        "  else:\n",
        "    print('Invalid choice')\n",
        "\n",
        "def TriangleArea():\n",
        "  b=float(input('What is the base? '))\n",
        "  h=float(input('What is the height? '))\n",
        "  print(f'The area is {b*h/2:.2f}.')\n",
        "\n",
        "def CircleArea():\n",
        "  r=float(input('What is the area? '))\n",
        "  print(f'The area is {math.pi*(r**2)}.')\n",
        "\n",
        "def SquareArea():\n",
        "  s=float(input('What is the side length? '))\n",
        "  print(f'The area of the square is {r**2}.')\n",
        "\n",
        "chooseShape()"
      ],
      "execution_count": null,
      "outputs": []
    },
    {
      "cell_type": "markdown",
      "metadata": {
        "id": "32Y9JeMG3D5n"
      },
      "source": [
        "#Doubling function"
      ]
    },
    {
      "cell_type": "code",
      "metadata": {
        "id": "CDpfrDpOBJA9",
        "outputId": "57da527b-9800-4aaf-9a50-3abbf86d771a",
        "colab": {
          "base_uri": "https://localhost:8080/",
          "height": 51
        }
      },
      "source": [
        "List=[1, 2, 4]\n",
        "\n",
        "def doublelist(numbers):\n",
        "  x=int(input('Choose 1 to double the list and 2 to double the values'))\n",
        "  if (x==1):\n",
        "    print(numbers*2)\n",
        "  elif (x==2):\n",
        "    for i in range(len(numbers)):\n",
        "      numbers[i]*=2\n",
        "    print(numbers)\n",
        "  else:\n",
        "    print('Invalid option')\n",
        "doublelist(List)"
      ],
      "execution_count": 5,
      "outputs": [
        {
          "output_type": "stream",
          "text": [
            "Choose 1 to double the list and 2 to double the values2\n",
            "[2, 4, 8]\n"
          ],
          "name": "stdout"
        }
      ]
    },
    {
      "cell_type": "markdown",
      "metadata": {
        "id": "QRKWMS70EsmM"
      },
      "source": [
        "#Concatenation"
      ]
    },
    {
      "cell_type": "code",
      "metadata": {
        "id": "sAHFQK8xFFrt",
        "outputId": "fcca5c00-f113-4eb7-c4ed-935bbc57cd85",
        "colab": {
          "base_uri": "https://localhost:8080/",
          "height": 34
        }
      },
      "source": [
        "import math\n",
        "List1=[1, 2, 4]\n",
        "List2=[2, 4, 8]\n",
        "\n",
        "def z(x, y):\n",
        "  d=math.floor(math.log10(y))\n",
        "  return int(x*10**(1+d) +y)\n",
        "\n",
        "def concatenate(a, b):\n",
        "  for i in range(0, 3):\n",
        "   z(a[i], b[i])\n",
        "  print(f'[{z(a[0], b[0])}, {z(a[1], b[1])}, {z(a[2], b[2])}]')\n",
        "\n",
        "concatenate(List1, List2)"
      ],
      "execution_count": null,
      "outputs": [
        {
          "output_type": "stream",
          "text": [
            "[12, 24, 48]\n"
          ],
          "name": "stdout"
        }
      ]
    },
    {
      "cell_type": "markdown",
      "metadata": {
        "id": "0fhvG5xvExQ9"
      },
      "source": [
        "#List of primes up to n"
      ]
    },
    {
      "cell_type": "code",
      "metadata": {
        "id": "qnlI9-s1LVlO",
        "outputId": "8785e995-a578-4a72-f055-95583a6aaf00",
        "colab": {
          "base_uri": "https://localhost:8080/",
          "height": 867
        }
      },
      "source": [
        "import math\n",
        "def prime(n):\n",
        "  a=2\n",
        "  for a in range(2, n+1):\n",
        "    for i in range(2, math.ceil(a**2)):\n",
        "      if (a%i)==0 and a>2:\n",
        "        break\n",
        "      else:\n",
        "        print(a)\n",
        "        break\n",
        "\n",
        "prime(100)"
      ],
      "execution_count": null,
      "outputs": [
        {
          "output_type": "stream",
          "text": [
            "2\n",
            "3\n",
            "5\n",
            "7\n",
            "9\n",
            "11\n",
            "13\n",
            "15\n",
            "17\n",
            "19\n",
            "21\n",
            "23\n",
            "25\n",
            "27\n",
            "29\n",
            "31\n",
            "33\n",
            "35\n",
            "37\n",
            "39\n",
            "41\n",
            "43\n",
            "45\n",
            "47\n",
            "49\n",
            "51\n",
            "53\n",
            "55\n",
            "57\n",
            "59\n",
            "61\n",
            "63\n",
            "65\n",
            "67\n",
            "69\n",
            "71\n",
            "73\n",
            "75\n",
            "77\n",
            "79\n",
            "81\n",
            "83\n",
            "85\n",
            "87\n",
            "89\n",
            "91\n",
            "93\n",
            "95\n",
            "97\n",
            "99\n"
          ],
          "name": "stdout"
        }
      ]
    },
    {
      "cell_type": "markdown",
      "metadata": {
        "id": "HRUQW-1lp7bK"
      },
      "source": [
        "#Addition and subtraction"
      ]
    },
    {
      "cell_type": "code",
      "metadata": {
        "id": "0vwScr3Tqgsz"
      },
      "source": [
        ""
      ],
      "execution_count": null,
      "outputs": []
    },
    {
      "cell_type": "markdown",
      "metadata": {
        "id": "zFloYFepqhni"
      },
      "source": [
        "#Sum of multiples of 3 and 5 below 1000"
      ]
    },
    {
      "cell_type": "code",
      "metadata": {
        "id": "RsWLXME-qgin",
        "outputId": "603c875c-5098-4df7-b246-014726a60b83",
        "colab": {
          "base_uri": "https://localhost:8080/",
          "height": 34
        }
      },
      "source": [
        "def sum3_5(n):\n",
        "  x=0\n",
        "  for k in range(0, n):\n",
        "    if (k%3==0) or (k%5==0):\n",
        "      x+=k\n",
        "  return x\n",
        "\n",
        "sum3_5(1000)"
      ],
      "execution_count": 3,
      "outputs": [
        {
          "output_type": "execute_result",
          "data": {
            "text/plain": [
              "233168"
            ]
          },
          "metadata": {
            "tags": []
          },
          "execution_count": 3
        }
      ]
    },
    {
      "cell_type": "markdown",
      "metadata": {
        "id": "2_dkzaddzu5K"
      },
      "source": [
        "#Sum of the even-valued Fibonacci numbers below 1000"
      ]
    },
    {
      "cell_type": "code",
      "metadata": {
        "id": "Tx_Aqy6X-2zi"
      },
      "source": [
        "def sum_even_fib(n):\n",
        "  for k in range(0, n, 2):\n",
        "    "
      ],
      "execution_count": null,
      "outputs": []
    }
  ]
}